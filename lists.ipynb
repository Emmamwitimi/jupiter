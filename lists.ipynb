{
 "cells": [
  {
   "cell_type": "code",
   "execution_count": 1,
   "id": "450837d6",
   "metadata": {},
   "outputs": [],
   "source": [
    "a=[3, 10, -2]"
   ]
  },
  {
   "cell_type": "code",
   "execution_count": 2,
   "id": "8cccf68b",
   "metadata": {},
   "outputs": [
    {
     "name": "stdout",
     "output_type": "stream",
     "text": [
      "[3, 10, -2]\n"
     ]
    }
   ],
   "source": [
    "print(a)"
   ]
  },
  {
   "cell_type": "code",
   "execution_count": 3,
   "id": "a30e7508",
   "metadata": {},
   "outputs": [],
   "source": [
    "a.append(13)#add an integer\n",
    "            #append if a predefined function"
   ]
  },
  {
   "cell_type": "code",
   "execution_count": 4,
   "id": "0e2f8730",
   "metadata": {},
   "outputs": [
    {
     "name": "stdout",
     "output_type": "stream",
     "text": [
      "[3, 10, -2, 13]\n"
     ]
    }
   ],
   "source": [
    "print(a)"
   ]
  },
  {
   "cell_type": "code",
   "execution_count": 7,
   "id": "6eab396d",
   "metadata": {},
   "outputs": [],
   "source": [
    "a.append(\"hello\")#add a different item with a diff datatype"
   ]
  },
  {
   "cell_type": "code",
   "execution_count": 8,
   "id": "af4fd62c",
   "metadata": {},
   "outputs": [
    {
     "name": "stdout",
     "output_type": "stream",
     "text": [
      "[3, 10, -2, 13, 'hello']\n"
     ]
    }
   ],
   "source": [
    "print(a)"
   ]
  },
  {
   "cell_type": "code",
   "execution_count": 9,
   "id": "653f4b96",
   "metadata": {},
   "outputs": [
    {
     "name": "stdout",
     "output_type": "stream",
     "text": [
      "[3, 10, -2, 13, 'hello', [2, 5]]\n"
     ]
    }
   ],
   "source": [
    "a.append([2, 5])#add a list to the previous list\n",
    "print(a)"
   ]
  },
  {
   "cell_type": "code",
   "execution_count": 10,
   "id": "cda94555",
   "metadata": {},
   "outputs": [
    {
     "data": {
      "text/plain": [
       "[2, 5]"
      ]
     },
     "execution_count": 10,
     "metadata": {},
     "output_type": "execute_result"
    }
   ],
   "source": [
    "a.pop()# delete predefined function\n",
    "       # it deletes from the back"
   ]
  },
  {
   "cell_type": "code",
   "execution_count": 11,
   "id": "b181dfd1",
   "metadata": {},
   "outputs": [
    {
     "name": "stdout",
     "output_type": "stream",
     "text": [
      "[3, 10, -2, 13, 'hello']\n"
     ]
    }
   ],
   "source": [
    "print(a)"
   ]
  },
  {
   "cell_type": "code",
   "execution_count": 12,
   "id": "2bfec5b7",
   "metadata": {},
   "outputs": [
    {
     "name": "stdout",
     "output_type": "stream",
     "text": [
      "[3, 10, -2, 13]\n"
     ]
    }
   ],
   "source": [
    "a.pop()#hello string is poped out\n",
    "print(a)"
   ]
  },
  {
   "cell_type": "code",
   "execution_count": 13,
   "id": "180d7276",
   "metadata": {},
   "outputs": [
    {
     "data": {
      "text/plain": [
       "3"
      ]
     },
     "execution_count": 13,
     "metadata": {},
     "output_type": "execute_result"
    }
   ],
   "source": [
    "a[0]  #retrieve the item in a at index 0\n",
    "    #index starts at 0"
   ]
  },
  {
   "cell_type": "code",
   "execution_count": 14,
   "id": "b51d7108",
   "metadata": {},
   "outputs": [
    {
     "data": {
      "text/plain": [
       "13"
      ]
     },
     "execution_count": 14,
     "metadata": {},
     "output_type": "execute_result"
    }
   ],
   "source": [
    "a[3]#retrieve itm 4"
   ]
  },
  {
   "cell_type": "code",
   "execution_count": 15,
   "id": "5c8e9de5",
   "metadata": {},
   "outputs": [
    {
     "name": "stdout",
     "output_type": "stream",
     "text": [
      "[100, 10, -2, 13]\n"
     ]
    }
   ],
   "source": [
    "#to change the content in the list \n",
    "#1)select the item ie retrieve the item\n",
    "#2)add value eg\n",
    "a[0]=100\n",
    "print(a)"
   ]
  },
  {
   "cell_type": "code",
   "execution_count": 18,
   "id": "b8f3df1a",
   "metadata": {},
   "outputs": [
    {
     "name": "stdout",
     "output_type": "stream",
     "text": [
      "['microsoft', 'apple', 'banana']\n"
     ]
    }
   ],
   "source": [
    "#exercise\n",
    "b=[\"banana\", \"apple\", \"microsoft\"]\n",
    "\n",
    "#swap the first value with the last value\n"
   ]
  },
  {
   "cell_type": "code",
   "execution_count": 19,
   "id": "47d80c48",
   "metadata": {},
   "outputs": [
    {
     "name": "stdout",
     "output_type": "stream",
     "text": [
      "['banana', 'apple', 'microsoft']\n"
     ]
    }
   ],
   "source": [
    "#ans\n",
    "temp=b[0]\n",
    "b[0]=b[2]\n",
    "b[2]=temp\n",
    "print(b)\n",
    "#you can also swap with\n",
    "b[0], b[2] =b[2], b[0]\n",
    "#if you combine the two results you will  not see change"
   ]
  },
  {
   "cell_type": "code",
   "execution_count": null,
   "id": "f4f5aec3",
   "metadata": {},
   "outputs": [],
   "source": []
  },
  {
   "cell_type": "code",
   "execution_count": null,
   "id": "51caa0c9",
   "metadata": {},
   "outputs": [],
   "source": []
  },
  {
   "cell_type": "code",
   "execution_count": null,
   "id": "a53cdc3e",
   "metadata": {},
   "outputs": [],
   "source": []
  },
  {
   "cell_type": "code",
   "execution_count": null,
   "id": "67d23dbf",
   "metadata": {},
   "outputs": [],
   "source": []
  }
 ],
 "metadata": {
  "kernelspec": {
   "display_name": "Python 3",
   "language": "python",
   "name": "python3"
  },
  "language_info": {
   "codemirror_mode": {
    "name": "ipython",
    "version": 3
   },
   "file_extension": ".py",
   "mimetype": "text/x-python",
   "name": "python",
   "nbconvert_exporter": "python",
   "pygments_lexer": "ipython3",
   "version": "3.8.8"
  }
 },
 "nbformat": 4,
 "nbformat_minor": 5
}

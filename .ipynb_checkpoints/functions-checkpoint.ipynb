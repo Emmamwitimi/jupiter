{
 "cells": [
  {
   "cell_type": "code",
   "execution_count": 1,
   "id": "f02c6699",
   "metadata": {},
   "outputs": [],
   "source": [
    "def f1(x):\n",
    "    return x+3"
   ]
  },
  {
   "cell_type": "code",
   "execution_count": 2,
   "id": "cf8b7283",
   "metadata": {},
   "outputs": [
    {
     "data": {
      "text/plain": [
       "6"
      ]
     },
     "execution_count": 2,
     "metadata": {},
     "output_type": "execute_result"
    }
   ],
   "source": [
    "f1(3)"
   ]
  },
  {
   "cell_type": "code",
   "execution_count": 3,
   "id": "2723bff9",
   "metadata": {},
   "outputs": [
    {
     "name": "stdout",
     "output_type": "stream",
     "text": [
      "12\n"
     ]
    }
   ],
   "source": [
    "def f2(w , y):\n",
    "    return y * w\n",
    "a=f2(3 , 4)\n",
    "print(a)"
   ]
  },
  {
   "cell_type": "code",
   "execution_count": 18,
   "id": "a7ea1a0e",
   "metadata": {},
   "outputs": [],
   "source": [
    "name=\"emma\"\n",
    "height=1.6\n",
    "weight=52\n",
    "\n",
    "name1=\"vicky\"\n",
    "height1=1.75\n",
    "weight1=90\n",
    "\n",
    "name2=\"sam\"\n",
    "height2=1.5\n",
    "weight2=74\n",
    "\n"
   ]
  },
  {
   "cell_type": "code",
   "execution_count": 22,
   "id": "c4f0b998",
   "metadata": {},
   "outputs": [],
   "source": [
    "def bmic(name, height, weight):\n",
    "    bmi=weight/(height**2)\n",
    "    print(name)\n",
    "    print(\"bmi:\",bmi)\n",
    "    if bmi<18:\n",
    "        print(\"under weight\")\n",
    "    elif bmi>25:\n",
    "        return name + \"overweight\"\n",
    "    else:\n",
    "        print(name,\"okay\")"
   ]
  },
  {
   "cell_type": "code",
   "execution_count": 15,
   "id": "34509d0c",
   "metadata": {},
   "outputs": [
    {
     "name": "stdout",
     "output_type": "stream",
     "text": [
      "vic\n",
      "bmi: 10.0\n",
      "under weight\n"
     ]
    }
   ],
   "source": [
    "bmic(\"vic\", 3, 90)"
   ]
  },
  {
   "cell_type": "code",
   "execution_count": 21,
   "id": "540bb090",
   "metadata": {},
   "outputs": [
    {
     "name": "stdout",
     "output_type": "stream",
     "text": [
      "emma\n",
      "bmi: 20.312499999999996\n",
      "emma okay\n",
      "vicky\n",
      "bmi: 29.387755102040817\n",
      "sam\n",
      "bmi: 32.888888888888886\n"
     ]
    }
   ],
   "source": [
    "result=bmic(name, height, weight)\n",
    "result1=bmic(name1, height1, weight1)\n",
    "result2=bmic(name2, height2, weight2)"
   ]
  },
  {
   "cell_type": "code",
   "execution_count": 23,
   "id": "60cf6b69",
   "metadata": {},
   "outputs": [
    {
     "name": "stdout",
     "output_type": "stream",
     "text": [
      "vickyoverweight\n"
     ]
    }
   ],
   "source": [
    "print(result1)"
   ]
  },
  {
   "cell_type": "code",
   "execution_count": null,
   "id": "c1d108c5",
   "metadata": {},
   "outputs": [],
   "source": []
  }
 ],
 "metadata": {
  "kernelspec": {
   "display_name": "Python 3",
   "language": "python",
   "name": "python3"
  },
  "language_info": {
   "codemirror_mode": {
    "name": "ipython",
    "version": 3
   },
   "file_extension": ".py",
   "mimetype": "text/x-python",
   "name": "python",
   "nbconvert_exporter": "python",
   "pygments_lexer": "ipython3",
   "version": "3.8.8"
  }
 },
 "nbformat": 4,
 "nbformat_minor": 5
}
